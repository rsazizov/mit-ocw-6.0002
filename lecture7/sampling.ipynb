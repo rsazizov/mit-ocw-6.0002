{
 "cells": [
  {
   "cell_type": "markdown",
   "metadata": {},
   "source": [
    "# Sampling and Confidence Intervals"
   ]
  },
  {
   "cell_type": "code",
   "execution_count": 1,
   "metadata": {},
   "outputs": [],
   "source": [
    "%matplotlib inline"
   ]
  },
  {
   "cell_type": "code",
   "execution_count": 23,
   "metadata": {},
   "outputs": [],
   "source": [
    "import pandas as pd\n",
    "import matplotlib.pyplot as plt\n",
    "\n",
    "plt.style.use('ggplot')"
   ]
  },
  {
   "cell_type": "code",
   "execution_count": 7,
   "metadata": {},
   "outputs": [],
   "source": [
    "df = pd.read_csv('bm_results2012.csv', header=None, names=[\n",
    "    'name', 'gender', 'age', 'division', 'country', 'time'\n",
    "])"
   ]
  },
  {
   "cell_type": "code",
   "execution_count": 8,
   "metadata": {},
   "outputs": [
    {
     "data": {
      "text/html": [
       "<div>\n",
       "<style scoped>\n",
       "    .dataframe tbody tr th:only-of-type {\n",
       "        vertical-align: middle;\n",
       "    }\n",
       "\n",
       "    .dataframe tbody tr th {\n",
       "        vertical-align: top;\n",
       "    }\n",
       "\n",
       "    .dataframe thead th {\n",
       "        text-align: right;\n",
       "    }\n",
       "</style>\n",
       "<table border=\"1\" class=\"dataframe\">\n",
       "  <thead>\n",
       "    <tr style=\"text-align: right;\">\n",
       "      <th></th>\n",
       "      <th>name</th>\n",
       "      <th>gender</th>\n",
       "      <th>age</th>\n",
       "      <th>division</th>\n",
       "      <th>country</th>\n",
       "      <th>time</th>\n",
       "    </tr>\n",
       "  </thead>\n",
       "  <tbody>\n",
       "    <tr>\n",
       "      <td>0</td>\n",
       "      <td>Gebremariam Gebregziabher</td>\n",
       "      <td>M</td>\n",
       "      <td>27</td>\n",
       "      <td>14</td>\n",
       "      <td>ETH</td>\n",
       "      <td>142.93</td>\n",
       "    </tr>\n",
       "    <tr>\n",
       "      <td>1</td>\n",
       "      <td>Matebo Levy</td>\n",
       "      <td>M</td>\n",
       "      <td>22</td>\n",
       "      <td>2</td>\n",
       "      <td>KEN</td>\n",
       "      <td>133.10</td>\n",
       "    </tr>\n",
       "    <tr>\n",
       "      <td>2</td>\n",
       "      <td>Cherop Sharon</td>\n",
       "      <td>F</td>\n",
       "      <td>28</td>\n",
       "      <td>1</td>\n",
       "      <td>KEN</td>\n",
       "      <td>151.83</td>\n",
       "    </tr>\n",
       "    <tr>\n",
       "      <td>3</td>\n",
       "      <td>Chebet Wilson</td>\n",
       "      <td>M</td>\n",
       "      <td>26</td>\n",
       "      <td>5</td>\n",
       "      <td>KEN</td>\n",
       "      <td>134.93</td>\n",
       "    </tr>\n",
       "    <tr>\n",
       "      <td>4</td>\n",
       "      <td>Dado Firehiwot</td>\n",
       "      <td>F</td>\n",
       "      <td>28</td>\n",
       "      <td>4</td>\n",
       "      <td>ETH</td>\n",
       "      <td>154.93</td>\n",
       "    </tr>\n",
       "    <tr>\n",
       "      <td>...</td>\n",
       "      <td>...</td>\n",
       "      <td>...</td>\n",
       "      <td>...</td>\n",
       "      <td>...</td>\n",
       "      <td>...</td>\n",
       "      <td>...</td>\n",
       "    </tr>\n",
       "    <tr>\n",
       "      <td>21515</td>\n",
       "      <td>Stracqualursi Thomas</td>\n",
       "      <td>M</td>\n",
       "      <td>37</td>\n",
       "      <td>3838</td>\n",
       "      <td>USA</td>\n",
       "      <td>308.47</td>\n",
       "    </tr>\n",
       "    <tr>\n",
       "      <td>21516</td>\n",
       "      <td>Synan Thomas J.</td>\n",
       "      <td>M</td>\n",
       "      <td>53</td>\n",
       "      <td>1188</td>\n",
       "      <td>USA</td>\n",
       "      <td>275.93</td>\n",
       "    </tr>\n",
       "    <tr>\n",
       "      <td>21517</td>\n",
       "      <td>Scannell Michael J.</td>\n",
       "      <td>M</td>\n",
       "      <td>46</td>\n",
       "      <td>2118</td>\n",
       "      <td>USA</td>\n",
       "      <td>324.25</td>\n",
       "    </tr>\n",
       "    <tr>\n",
       "      <td>21518</td>\n",
       "      <td>Skinner Edward J. IV</td>\n",
       "      <td>M</td>\n",
       "      <td>38</td>\n",
       "      <td>4327</td>\n",
       "      <td>USA</td>\n",
       "      <td>433.85</td>\n",
       "    </tr>\n",
       "    <tr>\n",
       "      <td>21519</td>\n",
       "      <td>Miller Casey A.</td>\n",
       "      <td>M</td>\n",
       "      <td>36</td>\n",
       "      <td>3530</td>\n",
       "      <td>USA</td>\n",
       "      <td>285.20</td>\n",
       "    </tr>\n",
       "  </tbody>\n",
       "</table>\n",
       "<p>21520 rows × 6 columns</p>\n",
       "</div>"
      ],
      "text/plain": [
       "                            name gender  age  division country    time\n",
       "0      Gebremariam Gebregziabher      M   27        14     ETH  142.93\n",
       "1                    Matebo Levy      M   22         2     KEN  133.10\n",
       "2                  Cherop Sharon      F   28         1     KEN  151.83\n",
       "3                  Chebet Wilson      M   26         5     KEN  134.93\n",
       "4                 Dado Firehiwot      F   28         4     ETH  154.93\n",
       "...                          ...    ...  ...       ...     ...     ...\n",
       "21515       Stracqualursi Thomas      M   37      3838     USA  308.47\n",
       "21516            Synan Thomas J.      M   53      1188     USA  275.93\n",
       "21517        Scannell Michael J.      M   46      2118     USA  324.25\n",
       "21518       Skinner Edward J. IV      M   38      4327     USA  433.85\n",
       "21519            Miller Casey A.      M   36      3530     USA  285.20\n",
       "\n",
       "[21520 rows x 6 columns]"
      ]
     },
     "execution_count": 8,
     "metadata": {},
     "output_type": "execute_result"
    }
   ],
   "source": [
    "df"
   ]
  },
  {
   "cell_type": "code",
   "execution_count": 51,
   "metadata": {},
   "outputs": [
    {
     "data": {
      "image/png": "[encoded data removed]",
      "text/plain": [
       "<Figure size 432x288 with 1 Axes>"
      ]
     },
     "metadata": {},
     "output_type": "display_data"
    }
   ],
   "source": [
    "def make_hist(times, n_bins, title):\n",
    "    fig = plt.figure()\n",
    "    ax = fig.add_subplot(1, 1, 1)\n",
    "\n",
    "    ax.hist(times, n_bins, color='g', alpha=0.5)\n",
    "\n",
    "    ax.set_title(title)\n",
    "    ax.set_xlabel('Minutes to Complete Race')\n",
    "    ax.set_ylabel('Number of Runners')\n",
    "\n",
    "    std = times.std()\n",
    "    mean = times.mean()\n",
    "\n",
    "    ax.annotate('mean = ' + str(round(mean, 2)) + '\\n'\n",
    "                + 'std = ' + str(round(std, 2)) + '\\n',\n",
    "                xy=(0.65, 0.75), fontsize=12,\n",
    "                xycoords='axes fraction')\n",
    "make_hist(df['time'], 20, '2012 Boston Marathon')"
   ]
  },
  {
   "cell_type": "code",
   "execution_count": 67,
   "metadata": {},
   "outputs": [
    {
     "data": {
      "image/png": "[encoded data removed]",
      "text/plain": [
       "<Figure size 432x288 with 1 Axes>"
      ]
     },
     "metadata": {},
     "output_type": "display_data"
    }
   ],
   "source": [
    "times = df['time'].sample(n=40)\n",
    "make_hist(times, 10, 'Sample of Size 40')"
   ]
  },
  {
   "cell_type": "code",
   "execution_count": null,
   "metadata": {},
   "outputs": [],
   "source": []
  }
 ],
 "metadata": {
  "kernelspec": {
   "display_name": "Python 3",
   "language": "python",
   "name": "python3"
  },
  "language_info": {
   "codemirror_mode": {
    "name": "ipython",
    "version": 3
   },
   "file_extension": ".py",
   "mimetype": "text/x-python",
   "name": "python",
   "nbconvert_exporter": "python",
   "pygments_lexer": "ipython3",
   "version": "3.7.3"
  }
 },
 "nbformat": 4,
 "nbformat_minor": 2
}
